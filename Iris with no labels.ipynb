{
 "cells": [
  {
   "cell_type": "markdown",
   "metadata": {},
   "source": [
    "# 1: Iris with no labels\n",
    "\n",
    "Welcome to the first episode of The Semi-Supervised Shenanigans!! This episode we will experiment semi-supervised learning techniques with a rather easy well-known dataset, the Iris species dataset.  "
   ]
  },
  {
   "cell_type": "markdown",
   "metadata": {},
   "source": [
    "## EDA\n",
    "\n",
    "We're kicking things off today with some exploration to the data, exploring a dataset is a cruical step in any machine learning or data science based project. Odds are in our favour python has alot - and I mean alot - of methods to help us exploring the iris through libraries as pandas & matplotlib."
   ]
  },
  {
   "cell_type": "code",
   "execution_count": 71,
   "metadata": {},
   "outputs": [],
   "source": [
    "import pandas as pd\n",
    "import matplotlib.pyplot as plt\n",
    "data = pd.read_csv('iris.csv', index_col = 'Id')"
   ]
  },
  {
   "cell_type": "code",
   "execution_count": 72,
   "metadata": {},
   "outputs": [
    {
     "name": "stdout",
     "output_type": "stream",
     "text": [
      "    SepalLengthCm  SepalWidthCm  PetalLengthCm  PetalWidthCm      Species\n",
      "Id                                                                       \n",
      "1             5.1           3.5            1.4           0.2  Iris-setosa\n",
      "2             4.9           3.0            1.4           0.2  Iris-setosa\n",
      "3             4.7           3.2            1.3           0.2  Iris-setosa\n",
      "4             4.6           3.1            1.5           0.2  Iris-setosa\n",
      "5             5.0           3.6            1.4           0.2  Iris-setosa\n"
     ]
    }
   ],
   "source": [
    "print(data.head())"
   ]
  },
  {
   "cell_type": "markdown",
   "metadata": {},
   "source": [
    "After importing the essential libraries & the iris dataset we viewed the first five rows of it using pd.head() method. We found out that there are 5 essential columns with an additional identificator column \"Id\" which was assigned to the row indexing of the dataframe \"data\" through the index_col argument of pd.read_csv() method. "
   ]
  },
  {
   "cell_type": "markdown",
   "metadata": {},
   "source": [
    "So to make ourselves clear, what we are going to do is we will put aside our target column - the column we usually predict - \"Species\" & try to reconstruct it again with clustering techniques. Then we train a supervised learning model over the data with the new generated column & compare the result with both the generated & the original target column. But first, let us explore this data well !!"
   ]
  },
  {
   "cell_type": "markdown",
   "metadata": {},
   "source": [
    "### The target column"
   ]
  },
  {
   "cell_type": "code",
   "execution_count": 73,
   "metadata": {},
   "outputs": [
    {
     "data": {
      "image/png": "[encoded data removed]",
      "text/plain": [
       "<Figure size 432x288 with 1 Axes>"
      ]
     },
     "metadata": {
      "needs_background": "light"
     },
     "output_type": "display_data"
    }
   ],
   "source": [
    "plt.hist(data.Species,bins = 10)\n",
    "plt.show()"
   ]
  },
  {
   "cell_type": "markdown",
   "metadata": {},
   "source": [
    "We can observe here that the three species -setosa,verginica & versicolor are evenly matched in terms of number of samples. Which makes us nothing but more curious to explore the explanatory variables."
   ]
  },
  {
   "cell_type": "markdown",
   "metadata": {},
   "source": [
    "### Explanatory Variables"
   ]
  },
  {
   "cell_type": "code",
   "execution_count": 74,
   "metadata": {},
   "outputs": [
    {
     "data": {
      "image/png": "[encoded data removed]",
      "text/plain": [
       "<Figure size 432x288 with 1 Axes>"
      ]
     },
     "metadata": {
      "needs_background": "light"
     },
     "output_type": "display_data"
    }
   ],
   "source": [
    "var_arr = [col[1].var() for col in data.drop('Species',axis = 1).iteritems()]\n",
    "plt.bar(x = data.drop('Species',axis = 1).columns,height=var_arr)\n",
    "plt.show()"
   ]
  },
  {
   "cell_type": "markdown",
   "metadata": {},
   "source": [
    "Since all the four explanatory variables are numerical, it made sense to check and compare their vaiances. The more variance a feature have the more it can effect the clustering/classifying process. Appearently petal length is the one with hieghest variance - rescalling is considered -, while sepal length is the second in oreder of variance with petal width as a close third. So we will view how the species are distributed for the two highest of variance features."
   ]
  },
  {
   "cell_type": "code",
   "execution_count": 75,
   "metadata": {},
   "outputs": [
    {
     "data": {
      "text/plain": [
       "<matplotlib.legend.Legend at 0x23fbc788548>"
      ]
     },
     "execution_count": 75,
     "metadata": {},
     "output_type": "execute_result"
    },
    {
     "data": {
      "image/png": "[encoded data removed]",
      "text/plain": [
       "<Figure size 432x288 with 1 Axes>"
      ]
     },
     "metadata": {
      "needs_background": "light"
     },
     "output_type": "display_data"
    }
   ],
   "source": [
    "groups = data.groupby(\"Species\")\n",
    "for name, group in groups:\n",
    "    plt.plot(group[\"PetalLengthCm\"], group[\"SepalLengthCm\"], marker=\"o\", linestyle=\"\", label=name)\n",
    "plt.legend()"
   ]
  },
  {
   "cell_type": "markdown",
   "metadata": {},
   "source": [
    "Here we can see that setosa \"blue\" are quite distingusihable while versicolor \"orange\" & virginica \"green\" are corssing each other's boundaries. Let's check on this graph once again after scaling our data. \"Formally, If a feature in the dataset is big in scale compared to others then in algorithms where Euclidean distance is measured this big scaled feature becomes dominating and needs to be normalized\". (Akanksha_Rai - GFG)."
   ]
  },
  {
   "cell_type": "markdown",
   "metadata": {},
   "source": [
    "## Scaling & modifying data"
   ]
  },
  {
   "cell_type": "code",
   "execution_count": 76,
   "metadata": {},
   "outputs": [
    {
     "data": {
      "text/html": [
       "<div>\n",
       "<style scoped>\n",
       "    .dataframe tbody tr th:only-of-type {\n",
       "        vertical-align: middle;\n",
       "    }\n",
       "\n",
       "    .dataframe tbody tr th {\n",
       "        vertical-align: top;\n",
       "    }\n",
       "\n",
       "    .dataframe thead th {\n",
       "        text-align: right;\n",
       "    }\n",
       "</style>\n",
       "<table border=\"1\" class=\"dataframe\">\n",
       "  <thead>\n",
       "    <tr style=\"text-align: right;\">\n",
       "      <th></th>\n",
       "      <th>SepalLengthCm</th>\n",
       "      <th>SepalWidthCm</th>\n",
       "      <th>PetalLengthCm</th>\n",
       "      <th>PetalWidthCm</th>\n",
       "      <th>Species</th>\n",
       "    </tr>\n",
       "  </thead>\n",
       "  <tbody>\n",
       "    <tr>\n",
       "      <td>0</td>\n",
       "      <td>-0.900681</td>\n",
       "      <td>1.032057</td>\n",
       "      <td>-1.341272</td>\n",
       "      <td>-1.312977</td>\n",
       "      <td>Iris-setosa</td>\n",
       "    </tr>\n",
       "    <tr>\n",
       "      <td>1</td>\n",
       "      <td>-1.143017</td>\n",
       "      <td>-0.124958</td>\n",
       "      <td>-1.341272</td>\n",
       "      <td>-1.312977</td>\n",
       "      <td>Iris-setosa</td>\n",
       "    </tr>\n",
       "    <tr>\n",
       "      <td>2</td>\n",
       "      <td>-1.385353</td>\n",
       "      <td>0.337848</td>\n",
       "      <td>-1.398138</td>\n",
       "      <td>-1.312977</td>\n",
       "      <td>Iris-setosa</td>\n",
       "    </tr>\n",
       "    <tr>\n",
       "      <td>3</td>\n",
       "      <td>-1.506521</td>\n",
       "      <td>0.106445</td>\n",
       "      <td>-1.284407</td>\n",
       "      <td>-1.312977</td>\n",
       "      <td>Iris-setosa</td>\n",
       "    </tr>\n",
       "    <tr>\n",
       "      <td>4</td>\n",
       "      <td>-1.021849</td>\n",
       "      <td>1.263460</td>\n",
       "      <td>-1.341272</td>\n",
       "      <td>-1.312977</td>\n",
       "      <td>Iris-setosa</td>\n",
       "    </tr>\n",
       "  </tbody>\n",
       "</table>\n",
       "</div>"
      ],
      "text/plain": [
       "   SepalLengthCm  SepalWidthCm  PetalLengthCm  PetalWidthCm      Species\n",
       "0      -0.900681      1.032057      -1.341272     -1.312977  Iris-setosa\n",
       "1      -1.143017     -0.124958      -1.341272     -1.312977  Iris-setosa\n",
       "2      -1.385353      0.337848      -1.398138     -1.312977  Iris-setosa\n",
       "3      -1.506521      0.106445      -1.284407     -1.312977  Iris-setosa\n",
       "4      -1.021849      1.263460      -1.341272     -1.312977  Iris-setosa"
      ]
     },
     "execution_count": 76,
     "metadata": {},
     "output_type": "execute_result"
    }
   ],
   "source": [
    "from sklearn.preprocessing import StandardScaler \n",
    "scaler = StandardScaler()\n",
    "scaled_data = scaler.fit_transform(data.drop('Species',axis = 1))\n",
    "scaled_data = pd.DataFrame(scaled_data)\n",
    "scaled_data[\"Species\"] = \" \"\n",
    "for i in range(len(scaled_data.Species)):\n",
    "    scaled_data.iloc[i,4] = data.iloc[i,4]\n",
    "scaled_data.columns = data.columns \n",
    "scaled_data.head()"
   ]
  },
  {
   "cell_type": "markdown",
   "metadata": {},
   "source": [
    "Here we first imported the standard scaler that we will use & intiallized an instance of it. Then we get it to learn some descriptions on the data and apply its transformation -scaling- on it through the StandardScaler.fit_transform() metod. The next bit of code is just adjusting the data. Next we will see the previous two plots after scaling."
   ]
  },
  {
   "cell_type": "code",
   "execution_count": 77,
   "metadata": {},
   "outputs": [
    {
     "data": {
      "image/png": "[encoded data removed]",
      "text/plain": [
       "<Figure size 432x288 with 1 Axes>"
      ]
     },
     "metadata": {
      "needs_background": "light"
     },
     "output_type": "display_data"
    }
   ],
   "source": [
    "var_arr = [col[1].var() for col in scaled_data.drop('Species',axis = 1).iteritems()]\n",
    "plt.bar(x = scaled_data.drop('Species',axis = 1).columns,height=var_arr)\n",
    "plt.show()"
   ]
  },
  {
   "cell_type": "code",
   "execution_count": 78,
   "metadata": {},
   "outputs": [
    {
     "data": {
      "text/plain": [
       "<matplotlib.legend.Legend at 0x23fbca50688>"
      ]
     },
     "execution_count": 78,
     "metadata": {},
     "output_type": "execute_result"
    },
    {
     "data": {
      "image/png": "[encoded data removed]",
      "text/plain": [
       "<Figure size 432x288 with 1 Axes>"
      ]
     },
     "metadata": {
      "needs_background": "light"
     },
     "output_type": "display_data"
    }
   ],
   "source": [
    "groups = scaled_data.groupby(\"Species\")\n",
    "for name, group in groups:\n",
    "    plt.plot(group[\"PetalLengthCm\"], group[\"SepalLengthCm\"], marker=\"o\", linestyle=\"\", label=name)\n",
    "plt.legend()"
   ]
  },
  {
   "cell_type": "markdown",
   "metadata": {},
   "source": [
    "In the second histogram shows that we got a variance of 1 in all of our variables after scaling, which means that now all of our variables can participate in clustering & classification equally. However the second plot didn't change at all which is also a good sign that means scaling variables didn't change the reality of the data so we are literally working with the same information here with some beneficial modifications."
   ]
  },
  {
   "cell_type": "markdown",
   "metadata": {},
   "source": [
    "## Let's cluster this\n",
    "\n",
    "I just love the iris dataset, I think it is the most suitable data for beginners, few variables with not so much work to do. So after we adjusted our four explanatory variables we need to start constructing the new target variables. So indeed we need to establish three clusters representing the three iris species, when the number of clusters is predefined it is good to go with a centroid-based algorithm as k-means clustering."
   ]
  },
  {
   "cell_type": "code",
   "execution_count": 79,
   "metadata": {},
   "outputs": [],
   "source": [
    "from sklearn.cluster import KMeans\n",
    "clustered_data = scaled_data\n",
    "model = KMeans(n_clusters = 3)\n",
    "model.fit_predict(scaled_data.drop('Species',axis=1))\n",
    "clustered_data['cluster'] = 0\n",
    "for i in range(len(model.labels_)):\n",
    "    clustered_data.iloc[i,5] = model.labels_[i]"
   ]
  },
  {
   "cell_type": "markdown",
   "metadata": {},
   "source": [
    "Here we imported the KMeans class from the cluster module of sklearn, then we copied our scaled data into a new data set called clusterd_data. We initialized the KMeans model with 3 clusters representing the three iris species. Then we call the KMeans.fit_predict() to assign each point of our dataset into a different cluster then we copy those resulted cluster labels to our new dataset then we will try to explore those cluster labels."
   ]
  },
  {
   "cell_type": "code",
   "execution_count": 80,
   "metadata": {},
   "outputs": [
    {
     "name": "stdout",
     "output_type": "stream",
     "text": [
      "140.96581663074699\n"
     ]
    },
    {
     "data": {
      "image/png": "[encoded data removed]",
      "text/plain": [
       "<Figure size 432x288 with 1 Axes>"
      ]
     },
     "metadata": {
      "needs_background": "light"
     },
     "output_type": "display_data"
    }
   ],
   "source": [
    "groups = clustered_data.groupby(\"cluster\")\n",
    "for name, group in groups:\n",
    "    plt.plot(group[\"PetalLengthCm\"], group[\"SepalLengthCm\"], marker=\"o\", linestyle=\"\", label=name)\n",
    "plt.legend()\n",
    "print(model.inertia_)"
   ]
  },
  {
   "cell_type": "markdown",
   "metadata": {},
   "source": [
    "We achieved an inertia of 140 which is not bad at all ! Baisically inertia is the sum of squared distances between cluster points & their corresponding cluster centers. A good clustering is a clustering that porduces tight clusters, you want your clustered points to be as much close from their centers & the clusters themselves to be as much far from each other. However all of this evaluating metrics aren't our main persue here, what we want to achieve at the end is a fair model accuracy on both cluster & original label even if clusters are a little scattered."
   ]
  },
  {
   "cell_type": "markdown",
   "metadata": {},
   "source": [
    "What is important to comment on is the latest graph here with only changing the variable of coloring to the cluster labels. It is fair to say that it is quite similar to the one before it with the original species variable which is a good sign indeed.\n",
    "Note that 0 is for virginica 1 is for setosa & 2 is for versicolor."
   ]
  },
  {
   "cell_type": "markdown",
   "metadata": {},
   "source": [
    "## Applying the decision tree\n",
    "\n",
    "As we saw in the scatter plots above that boundaries might not be linear for all of the explanatory variables, so I thought it would be better to use a decision tree clasifier."
   ]
  },
  {
   "cell_type": "code",
   "execution_count": 81,
   "metadata": {},
   "outputs": [],
   "source": [
    "clustered_data[\"species\"] = 0\n",
    "for i in range(len(clustered_data.Species)):\n",
    "    if(clustered_data.iloc[i,4] == \"Iris-virginica\"):\n",
    "        clustered_data.iloc[i,6] = 0\n",
    "    elif(clustered_data.iloc[i,4] == \"Iris-setosa\"):\n",
    "        clustered_data.iloc[i,6] = 1\n",
    "    else:\n",
    "        clustered_data.iloc[i,6] = 2\n",
    "clustered_data = clustered_data.drop(\"Species\",axis =1)\n",
    "for i in range(5):\n",
    "    clustered_data = clustered_data.sample(frac=1)\n",
    "clustered_data.head()\n",
    "from sklearn.model_selection import train_test_split\n",
    "X = clustered_data.drop(['species','cluster'],axis = 1)\n",
    "y = clustered_data.species\n",
    "y_= clustered_data.cluster\n",
    "X_train,X_test,y_train,y_test = train_test_split(X,y,test_size = 0.25,random_state = 42)\n",
    "X2_train,X2_test,y__train,y__test = train_test_split(X,y_,test_size = 0.25,random_state = 42)\n",
    "X_train.head()\n",
    "# We are concerned with X_train,X_test,y__train,y__test & y_test.\n"
   ]
  },
  {
   "cell_type": "markdown",
   "metadata": {},
   "source": [
    "So here we start by encoding the Species column into numbers, I know python has alot of encoding metohds but I just love looping, makes me comfortable, then shuffling the entire dataset 5 times just to make sure that samples are fairly distributed among both the train & test datasets. Then we import the train_test_split static method from model_selection module of the sklearn library. What this function does is that it splits our dataset into four sections for Explanatory variables & target variable in train & test set which makes it much easier to work with in the sklearn api. Then we repeat the split process 2 times one for each target variable using the same random_state to make sure that the sample distribution is the same across the 2 sets."
   ]
  },
  {
   "cell_type": "code",
   "execution_count": 82,
   "metadata": {},
   "outputs": [
    {
     "name": "stdout",
     "output_type": "stream",
     "text": [
      "Accuracy on clustered labels: 0.9736842105263158\n",
      "Accuracy on original labels: 0.7894736842105263\n"
     ]
    }
   ],
   "source": [
    "from sklearn.tree import DecisionTreeClassifier\n",
    "from sklearn import metrics\n",
    "model = DecisionTreeClassifier()\n",
    "model.fit(X_train,y__train)\n",
    "y_pred = model.predict(X_test)\n",
    "print(\"Accuracy on clustered labels:\",metrics.accuracy_score(y__test, y_pred))\n",
    "print(\"Accuracy on original labels:\",metrics.accuracy_score(y_test, y_pred))"
   ]
  },
  {
   "cell_type": "markdown",
   "metadata": {},
   "source": [
    "This part is really simple, we import the DecisionTreeClassifier that we will use alongside the accuracy metrics class tom measure our model's performance. Then we fit the model to the data using the clusterd labels on fitting, the next step is we predict the species for the test dataset. Finally, we measure the accuracy of the model on both the clustered labels & the original labels."
   ]
  },
  {
   "cell_type": "markdown",
   "metadata": {},
   "source": [
    "## Conclusion"
   ]
  },
  {
   "cell_type": "markdown",
   "metadata": {},
   "source": [
    "Achieving higher accuracy on clustered labels means one thing, that the decision tree did actually a great job in learning from the data as we used the cluster labels to train the model. However the clustering itself had some troubles in mirroring the reality -the original column- which lead to deffects on testing with the original labels.\n",
    "\n",
    "Semi-Supervised techniques are relly cool & they can save you with unlabelled data, but here we are just having fun with some clear & easy data to be sure that we all get the vibe of the series including both newcomers & ninjas.\n",
    "\n",
    "I hope you enjoyed as much as I did with this epsiode of the Semi-Supervised Shenanigans series, if you like it make sure to follow me on Github here & if you have a suggession feel free to contact me. See you later, alligator."
   ]
  },
  {
   "cell_type": "code",
   "execution_count": null,
   "metadata": {},
   "outputs": [],
   "source": []
  }
 ],
 "metadata": {
  "kernelspec": {
   "display_name": "Python 3",
   "language": "python",
   "name": "python3"
  },
  "language_info": {
   "codemirror_mode": {
    "name": "ipython",
    "version": 3
   },
   "file_extension": ".py",
   "mimetype": "text/x-python",
   "name": "python",
   "nbconvert_exporter": "python",
   "pygments_lexer": "ipython3",
   "version": "3.7.4"
  }
 },
 "nbformat": 4,
 "nbformat_minor": 2
}
